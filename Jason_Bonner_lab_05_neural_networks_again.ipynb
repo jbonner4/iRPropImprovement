{
  "cells": [
    {
      "cell_type": "code",
      "execution_count": 1,
      "metadata": {
        "colab": {
          "base_uri": "https://localhost:8080/",
          "height": 800
        },
        "id": "SFCUx8LUL1GV",
        "outputId": "57c0c4c9-5a0c-4cd8-cbd4-71b80be8c702"
      },
      "outputs": [
        {
          "name": "stdout",
          "output_type": "stream",
          "text": [
            "Cloning into 'turtle-dynamical'...\n",
            "warning: redirecting to https://github.com/hrmacbeth/turtle-dynamical.git/\n",
            "remote: Enumerating objects: 67, done.\u001b[K\n",
            "remote: Counting objects: 100% (67/67), done.\u001b[K\n",
            "remote: Compressing objects: 100% (65/65), done.\u001b[K\n",
            "remote: Total 67 (delta 32), reused 0 (delta 0), pack-reused 0\u001b[K\n",
            "Unpacking objects: 100% (67/67), 95.23 KiB | 1.22 MiB/s, done.\n",
            "Looking in indexes: https://pypi.org/simple, https://us-python.pkg.dev/colab-wheels/public/simple/\n",
            "Requirement already satisfied: scikit-learn in /usr/local/lib/python3.8/dist-packages (1.0.2)\n",
            "Collecting scikit-learn\n",
            "  Downloading scikit_learn-1.2.0-cp38-cp38-manylinux_2_17_x86_64.manylinux2014_x86_64.whl (9.7 MB)\n",
            "\u001b[2K     \u001b[90m━━━━━━━━━━━━━━━━━━━━━━━━━━━━━━━━━━━━━━━━\u001b[0m \u001b[32m9.7/9.7 MB\u001b[0m \u001b[31m21.6 MB/s\u001b[0m eta \u001b[36m0:00:00\u001b[0m\n",
            "\u001b[?25hRequirement already satisfied: scipy>=1.3.2 in /usr/local/lib/python3.8/dist-packages (from scikit-learn) (1.7.3)\n",
            "Requirement already satisfied: numpy>=1.17.3 in /usr/local/lib/python3.8/dist-packages (from scikit-learn) (1.21.6)\n",
            "Requirement already satisfied: threadpoolctl>=2.0.0 in /usr/local/lib/python3.8/dist-packages (from scikit-learn) (3.1.0)\n",
            "Requirement already satisfied: joblib>=1.1.1 in /usr/local/lib/python3.8/dist-packages (from scikit-learn) (1.2.0)\n",
            "Installing collected packages: scikit-learn\n",
            "  Attempting uninstall: scikit-learn\n",
            "    Found existing installation: scikit-learn 1.0.2\n",
            "    Uninstalling scikit-learn-1.0.2:\n",
            "      Successfully uninstalled scikit-learn-1.0.2\n",
            "Successfully installed scikit-learn-1.2.0\n"
          ]
        },
        {
          "ename": "ModuleNotFoundError",
          "evalue": "ignored",
          "output_type": "error",
          "traceback": [
            "\u001b[0;31m---------------------------------------------------------------------------\u001b[0m",
            "\u001b[0;31mModuleNotFoundError\u001b[0m                       Traceback (most recent call last)",
            "\u001b[0;32m<ipython-input-1-c2ea359d7992>\u001b[0m in \u001b[0;36m<module>\u001b[0;34m\u001b[0m\n\u001b[1;32m     16\u001b[0m \u001b[0;32mfrom\u001b[0m \u001b[0msklearn\u001b[0m \u001b[0;32mimport\u001b[0m \u001b[0mmetrics\u001b[0m\u001b[0;34m\u001b[0m\u001b[0;34m\u001b[0m\u001b[0m\n\u001b[1;32m     17\u001b[0m \u001b[0;32mfrom\u001b[0m \u001b[0mtensorflow\u001b[0m \u001b[0;32mimport\u001b[0m \u001b[0mkeras\u001b[0m\u001b[0;34m\u001b[0m\u001b[0;34m\u001b[0m\u001b[0m\n\u001b[0;32m---> 18\u001b[0;31m \u001b[0;32mfrom\u001b[0m \u001b[0mneural_network\u001b[0m \u001b[0;32mimport\u001b[0m \u001b[0mMLPClassifier\u001b[0m\u001b[0;34m\u001b[0m\u001b[0;34m\u001b[0m\u001b[0m\n\u001b[0m",
            "\u001b[0;32m/content/turtle-dynamical/neural_network.py\u001b[0m in \u001b[0;36m<module>\u001b[0;34m\u001b[0m\n\u001b[1;32m     31\u001b[0m \u001b[0;34m\u001b[0m\u001b[0m\n\u001b[1;32m     32\u001b[0m \u001b[0;34m\u001b[0m\u001b[0m\n\u001b[0;32m---> 33\u001b[0;31m \u001b[0mexec\u001b[0m\u001b[0;34m(\u001b[0m\u001b[0;34mf'from {cfg.optimizer_file} import OptimizerStatus, get_updates, trigger_stopping'\u001b[0m\u001b[0;34m)\u001b[0m\u001b[0;34m\u001b[0m\u001b[0;34m\u001b[0m\u001b[0m\n\u001b[0m\u001b[1;32m     34\u001b[0m \u001b[0;34m\u001b[0m\u001b[0m\n\u001b[1;32m     35\u001b[0m \u001b[0;34m\u001b[0m\u001b[0m\n",
            "\u001b[0;32m/content/turtle-dynamical/neural_network.py\u001b[0m in \u001b[0;36m<module>\u001b[0;34m\u001b[0m\n",
            "\u001b[0;31mModuleNotFoundError\u001b[0m: No module named 'inverse_step_size'",
            "",
            "\u001b[0;31m---------------------------------------------------------------------------\u001b[0;32m\nNOTE: If your import is failing due to a missing package, you can\nmanually install dependencies using either !pip or !apt.\n\nTo view examples of installing some common dependencies, click the\n\"Open Examples\" button below.\n\u001b[0;31m---------------------------------------------------------------------------\u001b[0m\n"
          ]
        }
      ],
      "source": [
        "%matplotlib inline\n",
        "\n",
        "import sys\n",
        "!git clone https://www.github.com/hrmacbeth/turtle-dynamical.git\n",
        "sys.path.append('turtle-dynamical')\n",
        "\n",
        "!pip install --upgrade scikit-learn\n",
        "\n",
        "import numpy as np\n",
        "import matplotlib.pyplot as plt\n",
        "import config as cfg\n",
        "\n",
        "cfg.optimizer_file = 'jason_bonner_jupyter_notebook'\n",
        "\n",
        "# Import datasets, classifiers and performance metrics\n",
        "from sklearn import metrics\n",
        "from tensorflow import keras\n",
        "from neural_network import MLPClassifier"
      ]
    },
    {
      "cell_type": "markdown",
      "metadata": {
        "id": "zg-QyVhPL1Ga"
      },
      "source": [
        "\n",
        "# Recognizing hand-written digits\n",
        "\n",
        "This example shows how scikit-learn can be used to recognize images of\n",
        "hand-written digits, from 0-9.\n"
      ]
    },
    {
      "cell_type": "markdown",
      "metadata": {
        "id": "Jyspt5EpL1Ga"
      },
      "source": [
        "## Digits dataset\n",
        "\n",
        "The MNIST digits dataset consists of 28 x 28\n",
        "pixel images of digits, stored as\n",
        "28 x 28 arrays of grayscale values, which we label as `X_train`/`X_test`. We display the first 4 images. For each image, we have a corresponding record of a number between 0 and 9 which is the digit it depicts, which we label as `y_train`/`y_test`.  We include these as the titles of the corresponding pictures below.\n",
        "\n"
      ]
    },
    {
      "cell_type": "code",
      "execution_count": null,
      "metadata": {
        "colab": {
          "base_uri": "https://localhost:8080/",
          "height": 255
        },
        "id": "z1xSJ3Y6L1Gb",
        "outputId": "babda259-4404-4bc0-c3a1-f1dd693ec74b"
      },
      "outputs": [
        {
          "name": "stdout",
          "output_type": "stream",
          "text": [
            "Downloading data from https://storage.googleapis.com/tensorflow/tf-keras-datasets/mnist.npz\n",
            "11493376/11490434 [==============================] - 0s 0us/step\n",
            "11501568/11490434 [==============================] - 0s 0us/step\n",
            "Dataset containing 60000 training images and 10000 test images.\n",
            "Each image has size 28 x 28.\n"
          ]
        },
        {
          "data": {
            "image/png": "[encoded data removed]",
            "text/plain": [
              "<Figure size 720x216 with 4 Axes>"
            ]
          },
          "metadata": {
            "needs_background": "light"
          },
          "output_type": "display_data"
        }
      ],
      "source": [
        "(X_train, y_train), (X_test, y_test) = keras.datasets.mnist.load_data()\n",
        "n_train_samples = len(X_train)\n",
        "n_test_samples = len(X_test)\n",
        "\n",
        "print(f\"Dataset containing {n_train_samples} training images and {n_test_samples} test images.\")\n",
        "print(f\"Each image has size {len(X_train[0])} x {len(X_train[0][0])}.\")\n",
        "\n",
        "_, axes = plt.subplots(nrows=1, ncols=4, figsize=(10, 3))\n",
        "for ax, image, label in zip(axes, X_train, y_train):\n",
        "    ax.set_axis_off()\n",
        "    ax.imshow(image, cmap=plt.cm.gray_r, interpolation='nearest')\n",
        "    ax.set_title(f'Depicts digit: {label}')"
      ]
    },
    {
      "cell_type": "markdown",
      "metadata": {
        "id": "fSd5uEUUL1Gb"
      },
      "source": [
        "## Classification\n",
        "\n",
        "To apply a classifier on this data, we need to flatten the images, turning\n",
        "each 2-D array of grayscale values from shape ``(28, 28)`` into shape\n",
        "``(784,1)``.  We also rescale the pixel darknesses to range from 0 to 1 rather than 0 to 256."
      ]
    },
    {
      "cell_type": "code",
      "execution_count": null,
      "metadata": {
        "id": "_ODIvGKoVZRn"
      },
      "outputs": [],
      "source": [
        "# flatten the images\n",
        "X_train = X_train.reshape((n_train_samples, -1))\n",
        "X_test = X_test.reshape((n_test_samples, -1))\n",
        "\n",
        "# Scale images to the [0, 1] range\n",
        "X_train = X_train.astype(\"float32\") / 255\n",
        "X_test = X_test.astype(\"float32\") / 255"
      ]
    },
    {
      "cell_type": "markdown",
      "metadata": {
        "id": "NuMcpSGoVk5f"
      },
      "source": [
        "We then set up a neural network:  we will try with just one hidden layer, with 32 neurons, but you can experiment by changing the number of hidden layers and their sizes."
      ]
    },
    {
      "cell_type": "code",
      "execution_count": null,
      "metadata": {
        "colab": {
          "base_uri": "https://localhost:8080/"
        },
        "id": "OVvj_-6GL1Gb",
        "outputId": "0adc8749-2474-4ff3-b965-9ced446bbc35"
      },
      "outputs": [
        {
          "name": "stdout",
          "output_type": "stream",
          "text": [
            "Neural network: for 28 x 28 = 784 features, it has 25153 parameters.\n"
          ]
        }
      ],
      "source": [
        "# Create a classifier: a neural network\n",
        "clf = MLPClassifier(hidden_layer_sizes=(32,), alpha=1, verbose=True)\n",
        "\n",
        "print(f\"Neural network: for 28 x 28 = 784 features, it has {clf.num_parameters(784)} parameters.\")"
      ]
    },
    {
      "cell_type": "markdown",
      "metadata": {
        "id": "2klhPT5wBpQq"
      },
      "source": [
        "Finally we train the neural network.  Depending on the value of `max_iter`, this may take some time.  Every 5 iterations, it reports on the current value of the \"loss\" function (a measure of error) -- the smaller this value is, the better.\n",
        "\n",
        "After training, the neural network can be used to predict the value of the digit for the samples in the test subset.  We report the accuracy rate for these predictions.  Note that random chance would give an accuracy rate of 0.1, since there are 10 digits to choose from."
      ]
    },
    {
      "cell_type": "code",
      "execution_count": null,
      "metadata": {
        "colab": {
          "base_uri": "https://localhost:8080/"
        },
        "id": "vE9lu23DQ0sH",
        "outputId": "4746a9c3-7777-4751-c1fc-7a90fa43390b"
      },
      "outputs": [
        {
          "name": "stdout",
          "output_type": "stream",
          "text": [
            "Iteration 5, loss = 2.242867970784505\n",
            "Iteration 10, loss = 2.1132058118979136\n",
            "Iteration 15, loss = 1.9961532734076182\n",
            "Iteration 20, loss = 1.8851939947764078\n",
            "Iteration 25, loss = 1.782093057235082\n",
            "Iteration 30, loss = 1.688224029858907\n",
            "Iteration 35, loss = 1.6038450138409932\n",
            "Iteration 40, loss = 1.5281418682893118\n",
            "Iteration 45, loss = 1.4600317220052084\n",
            "Iteration 50, loss = 1.3986778118610383\n",
            "Iteration 55, loss = 1.343383228445053\n",
            "Iteration 60, loss = 1.2935592737992605\n",
            "Iteration 65, loss = 1.2487354864279427\n",
            "Iteration 70, loss = 1.2084118535995483\n",
            "Iteration 75, loss = 1.1721822476704917\n",
            "Iteration 80, loss = 1.1395904149055482\n",
            "Iteration 85, loss = 1.110231666882833\n",
            "Iteration 90, loss = 1.0837313302993776\n",
            "Iteration 95, loss = 1.0597479366302491\n",
            "Iteration 100, loss = 1.0379935339132944\n",
            "Iteration 105, loss = 1.0182034128824868\n",
            "Iteration 110, loss = 1.0001517970085145\n",
            "Iteration 115, loss = 0.9836496937433878\n",
            "Iteration 120, loss = 0.9685325898488362\n",
            "Iteration 125, loss = 0.9546490578651428\n",
            "Iteration 130, loss = 0.9418723445892334\n",
            "Iteration 135, loss = 0.9300973766485849\n",
            "Iteration 140, loss = 0.9192192754427593\n",
            "Iteration 145, loss = 0.9091582275708516\n",
            "Iteration 150, loss = 0.8998352654298146\n",
            "Iteration 155, loss = 0.8911839866797129\n",
            "Iteration 160, loss = 0.883145605802536\n",
            "Iteration 165, loss = 0.8756668057441712\n",
            "Iteration 170, loss = 0.86870077958107\n",
            "Iteration 175, loss = 0.8622052128473918\n",
            "Iteration 180, loss = 0.8561405248324077\n",
            "Iteration 185, loss = 0.8504729289531707\n",
            "Iteration 190, loss = 0.8451722196420034\n",
            "Iteration 195, loss = 0.8402096228281657\n",
            "Iteration 200, loss = 0.8355612476666768\n",
            "Iteration 205, loss = 0.8312033331394195\n",
            "Iteration 210, loss = 0.8271147221247356\n",
            "Iteration 215, loss = 0.8232752994219462\n",
            "Iteration 220, loss = 0.8196679442246755\n",
            "Iteration 225, loss = 0.8162767728169759\n",
            "Iteration 230, loss = 0.8130860312461853\n",
            "Iteration 235, loss = 0.810083286190033\n",
            "Iteration 240, loss = 0.8072559738636017\n",
            "Iteration 245, loss = 0.8045922465642293\n",
            "Iteration 250, loss = 0.8020816236813862\n",
            "Iteration 255, loss = 0.799713624461492\n",
            "Iteration 260, loss = 0.7974796562194824\n",
            "Iteration 265, loss = 0.7953711262861888\n",
            "Iteration 270, loss = 0.7933804183642069\n",
            "Iteration 275, loss = 0.7914996557076772\n",
            "Iteration 280, loss = 0.7897228495121001\n",
            "Iteration 285, loss = 0.7880430996259054\n",
            "Iteration 290, loss = 0.7864551332950592\n",
            "Iteration 295, loss = 0.7849529615720112\n",
            "Iteration 300, loss = 0.78353189757665\n",
            "The accuracy of prediction on the test set is 0.8273.\n"
          ]
        }
      ],
      "source": [
        "# Learn the digits on the train subset\n",
        "clf.fit(X_train, y_train, max_iter=300)\n",
        "\n",
        "# Overall accuracy of predictions\n",
        "print(f\"The accuracy of prediction on the test set is {clf.score(X_test, y_test)}.\")"
      ]
    },
    {
      "cell_type": "markdown",
      "metadata": {
        "id": "v5bsmBPYL1Gc"
      },
      "source": [
        "Below we visualize the first 6 test samples and show their predicted\n",
        "digit value in the title.\n",
        "\n"
      ]
    },
    {
      "cell_type": "code",
      "execution_count": null,
      "metadata": {
        "colab": {
          "base_uri": "https://localhost:8080/",
          "height": 127
        },
        "id": "Wbq6dgCYL1Gc",
        "outputId": "2f90c7a6-4b15-4acd-805f-23e5713013ea"
      },
      "outputs": [
        {
          "data": {
            "image/png": "[encoded data removed]",
            "text/plain": [
              "<Figure size 720x216 with 6 Axes>"
            ]
          },
          "metadata": {
            "needs_background": "light"
          },
          "output_type": "display_data"
        }
      ],
      "source": [
        "_, axes = plt.subplots(nrows=1, ncols=6, figsize=(10, 3))\n",
        "for ax, image in zip(axes, X_test):\n",
        "    ax.set_axis_off()\n",
        "    prediction = clf.predict([image])\n",
        "    X_test = (X_test * 255).astype(\"int\")\n",
        "    image = image.reshape(28, 28)\n",
        "    ax.imshow(image, cmap=plt.cm.gray_r, interpolation='nearest')\n",
        "    ax.set_title(f'Prediction: {prediction[0]}')"
      ]
    },
    {
      "cell_type": "markdown",
      "metadata": {
        "id": "t2cshPfOL1Gc"
      },
      "source": [
        "We can also plot a `confusion matrix <confusion_matrix>` of the\n",
        "true digit values and the predicted digit values.\n",
        "\n"
      ]
    },
    {
      "cell_type": "code",
      "execution_count": null,
      "metadata": {
        "colab": {
          "base_uri": "https://localhost:8080/",
          "height": 554
        },
        "id": "hQOcxS6GL1Gd",
        "outputId": "f21d2c9b-9476-4ac2-d320-da6fba2ae06a"
      },
      "outputs": [
        {
          "name": "stderr",
          "output_type": "stream",
          "text": [
            "/usr/local/lib/python3.7/dist-packages/sklearn/utils/deprecation.py:87: FutureWarning: Function plot_confusion_matrix is deprecated; Function `plot_confusion_matrix` is deprecated in 1.0 and will be removed in 1.2. Use one of the class methods: ConfusionMatrixDisplay.from_predictions or ConfusionMatrixDisplay.from_estimator.\n",
            "  warnings.warn(msg, category=FutureWarning)\n"
          ]
        },
        {
          "name": "stdout",
          "output_type": "stream",
          "text": [
            "Confusion matrix:\n",
            "[[396  28  42  53  23 247  24  19   5 143]\n",
            " [ 58 423  56  49  51 283   8  17  22 168]\n",
            " [ 41  75 333  69  45 229  30  24  22 164]\n",
            " [ 33  62  58 308  50 280  17  30  21 151]\n",
            " [ 46  54  53  54 187 369  26  27  11 155]\n",
            " [ 40  47  59  81  46 346  20  26  16 211]\n",
            " [ 57  39  69  66  43 241 231  17   5 190]\n",
            " [ 46  60  60  56  58 312  11 242  14 169]\n",
            " [ 45  78  59  91  54 308  16  38 110 175]\n",
            " [ 45  63  41  65 127 308  20  44  10 286]]\n"
          ]
        },
        {
          "data": {
            "image/png": "[encoded data removed]",
            "text/plain": [
              "<Figure size 432x288 with 2 Axes>"
            ]
          },
          "metadata": {
            "needs_background": "light"
          },
          "output_type": "display_data"
        }
      ],
      "source": [
        "disp = metrics.plot_confusion_matrix(clf, X_test, y_test)\n",
        "disp.figure_.suptitle(\"Confusion Matrix\")\n",
        "print(f\"Confusion matrix:\\n{disp.confusion_matrix}\")\n",
        "\n",
        "plt.show()"
      ]
    },
    {
      "cell_type": "code",
      "execution_count": null,
      "metadata": {
        "id": "ARPlf8nHR6pk"
      },
      "outputs": [],
      "source": []
    }
  ],
  "metadata": {
    "colab": {
      "provenance": []
    },
    "kernelspec": {
      "display_name": "Python 3",
      "language": "python",
      "name": "python3"
    },
    "language_info": {
      "codemirror_mode": {
        "name": "ipython",
        "version": 3
      },
      "file_extension": ".py",
      "mimetype": "text/x-python",
      "name": "python",
      "nbconvert_exporter": "python",
      "pygments_lexer": "ipython3",
      "version": "3.9.1"
    }
  },
  "nbformat": 4,
  "nbformat_minor": 0
}
